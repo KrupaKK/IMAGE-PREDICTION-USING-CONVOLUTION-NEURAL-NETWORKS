{
 "cells": [
  {
   "cell_type": "markdown",
   "metadata": {
    "id": "evt2_g96szZV"
   },
   "source": [
    "## Image Prediction using Convoluation Neural Network Assignment 1"
   ]
  },
  {
   "cell_type": "code",
   "execution_count": 2,
   "metadata": {
    "id": "WCBWvJGps5qV"
   },
   "outputs": [],
   "source": [
    "# Importing, the Library\n",
    "import tensorflow as tf\n",
    "from keras.preprocessing.image import ImageDataGenerator\n",
    "import matplotlib.pyplot as plt\n",
    "import numpy as np"
   ]
  },
  {
   "cell_type": "code",
   "execution_count": 3,
   "metadata": {
    "colab": {
     "base_uri": "https://localhost:8080/",
     "height": 35
    },
    "id": "c301bB6BtD4-",
    "outputId": "b25074b1-6132-41dd-cd92-1c9219ba96da"
   },
   "outputs": [
    {
     "data": {
      "text/plain": [
       "'2.6.0'"
      ]
     },
     "execution_count": 3,
     "metadata": {},
     "output_type": "execute_result"
    }
   ],
   "source": [
    "tf.__version__"
   ]
  },
  {
   "cell_type": "code",
   "execution_count": 4,
   "metadata": {
    "colab": {
     "base_uri": "https://localhost:8080/"
    },
    "id": "8ymSs7s2tTne",
    "outputId": "d3241d5a-3ffd-4af2-b640-626b68640783"
   },
   "outputs": [
    {
     "name": "stdout",
     "output_type": "stream",
     "text": [
      "Found 8000 images belonging to 2 classes.\n"
     ]
    }
   ],
   "source": [
    "# Processing the Training Dataset\n",
    "train = ImageDataGenerator(rescale = 1./255,\n",
    "                                   shear_range = 0.2,\n",
    "                                   zoom_range = 0.2,\n",
    "                                   horizontal_flip = True)\n",
    "trainingSet = train.flow_from_directory('C:\\\\Users\\\\kapad\\\\Desktop\\\\CDSP\\\\MODULE 6 DEEP LEARNING\\\\Convolutional Neural Networks (CNN) (1)\\\\Convolutional Neural Networks (CNN) (1)\\\\dataset\\\\training_set',\n",
    "                                                 target_size = (64, 64),\n",
    "                                                 batch_size = 32,\n",
    "                                                 class_mode = 'binary')"
   ]
  },
  {
   "cell_type": "code",
   "execution_count": 5,
   "metadata": {
    "colab": {
     "base_uri": "https://localhost:8080/"
    },
    "id": "tMOZuJDEtis3",
    "outputId": "66b533b6-ce37-4902-bca4-28bfbbab6681"
   },
   "outputs": [
    {
     "name": "stdout",
     "output_type": "stream",
     "text": [
      "Found 2000 images belonging to 2 classes.\n"
     ]
    }
   ],
   "source": [
    "# Processing the Training Dataset\n",
    "test_datagen = ImageDataGenerator(rescale = 1./255)\n",
    "test_set = test_datagen.flow_from_directory('C:\\\\Users\\\\kapad\\\\Desktop\\\\CDSP\\\\MODULE 6 DEEP LEARNING\\\\Convolutional Neural Networks (CNN) (1)\\\\Convolutional Neural Networks (CNN) (1)\\\\dataset\\\\test_set',\n",
    "                                            target_size = (64, 64),\n",
    "                                            batch_size = 32,\n",
    "                                            class_mode = 'binary')"
   ]
  },
  {
   "cell_type": "markdown",
   "metadata": {
    "id": "-qiiVtRBuLYv"
   },
   "source": [
    "# Building the CNN Model"
   ]
  },
  {
   "cell_type": "code",
   "execution_count": 6,
   "metadata": {
    "id": "Sz0L-tyBssNN"
   },
   "outputs": [],
   "source": [
    "# Initialising the CNN\n",
    "\n",
    "cnn = tf.keras.models.Sequential()"
   ]
  },
  {
   "cell_type": "code",
   "execution_count": 7,
   "metadata": {
    "id": "SU43pW-_uTte"
   },
   "outputs": [],
   "source": [
    "# Step 1 - Convolution\n",
    "\n",
    "cnn.add(tf.keras.layers.Conv2D(filters=32, kernel_size=3, activation='relu', input_shape=[64, 64, 3]))"
   ]
  },
  {
   "cell_type": "code",
   "execution_count": 8,
   "metadata": {
    "id": "okpmrMHXuadZ"
   },
   "outputs": [],
   "source": [
    "# Step 2 - Pooling\n",
    "\n",
    "cnn.add(tf.keras.layers.MaxPool2D(pool_size=2, strides=2))"
   ]
  },
  {
   "cell_type": "code",
   "execution_count": 9,
   "metadata": {
    "id": "u-winkDIuhNI"
   },
   "outputs": [],
   "source": [
    "# Adding a second convolutional layer\n",
    "\n",
    "cnn.add(tf.keras.layers.Conv2D(filters=32, kernel_size=3, activation='relu'))\n",
    "cnn.add(tf.keras.layers.MaxPool2D(pool_size=2, strides=2))"
   ]
  },
  {
   "cell_type": "code",
   "execution_count": 10,
   "metadata": {
    "id": "Ut5jQcrcuoSx"
   },
   "outputs": [],
   "source": [
    "# Step 3 - Flattening\n",
    "\n",
    "cnn.add(tf.keras.layers.Flatten())"
   ]
  },
  {
   "cell_type": "code",
   "execution_count": 11,
   "metadata": {
    "id": "eFbgwHpvutCF"
   },
   "outputs": [],
   "source": [
    "# Step 4 - Full Connection\n",
    "\n",
    "cnn.add(tf.keras.layers.Dense(units=128, activation='relu'))"
   ]
  },
  {
   "cell_type": "code",
   "execution_count": 12,
   "metadata": {
    "id": "oAqg04tnuzAw"
   },
   "outputs": [],
   "source": [
    "# Step 5 - Output Layer\n",
    "\n",
    "cnn.add(tf.keras.layers.Dense(units=1, activation='sigmoid'))"
   ]
  },
  {
   "cell_type": "markdown",
   "metadata": {
    "id": "EQKbHSVfu-Ge"
   },
   "source": [
    "# Training the CNN"
   ]
  },
  {
   "cell_type": "code",
   "execution_count": 13,
   "metadata": {
    "id": "-9BAfuvZu67i"
   },
   "outputs": [],
   "source": [
    "# Compiling the CNN\n",
    "\n",
    "cnn.compile(optimizer = 'adam', loss = 'binary_crossentropy', metrics = ['accuracy'])"
   ]
  },
  {
   "cell_type": "code",
   "execution_count": 14,
   "metadata": {
    "colab": {
     "base_uri": "https://localhost:8080/"
    },
    "id": "oaPoc080vJet",
    "outputId": "9612eb9e-51a8-4921-b507-037c5f31fcd8"
   },
   "outputs": [
    {
     "name": "stdout",
     "output_type": "stream",
     "text": [
      "Epoch 1/25\n",
      "250/250 [==============================] - 46s 183ms/step - loss: 0.6530 - accuracy: 0.6051 - val_loss: 0.5973 - val_accuracy: 0.6930\n",
      "Epoch 2/25\n",
      "250/250 [==============================] - 33s 132ms/step - loss: 0.5828 - accuracy: 0.6919 - val_loss: 0.5408 - val_accuracy: 0.7260\n",
      "Epoch 3/25\n",
      "250/250 [==============================] - 32s 129ms/step - loss: 0.5485 - accuracy: 0.7214 - val_loss: 0.5350 - val_accuracy: 0.7290\n",
      "Epoch 4/25\n",
      "250/250 [==============================] - 34s 134ms/step - loss: 0.5247 - accuracy: 0.7351 - val_loss: 0.5109 - val_accuracy: 0.7590\n",
      "Epoch 5/25\n",
      "250/250 [==============================] - 36s 145ms/step - loss: 0.5064 - accuracy: 0.7508 - val_loss: 0.5022 - val_accuracy: 0.7595\n",
      "Epoch 6/25\n",
      "250/250 [==============================] - 35s 141ms/step - loss: 0.4864 - accuracy: 0.7586 - val_loss: 0.5218 - val_accuracy: 0.7560\n",
      "Epoch 7/25\n",
      "250/250 [==============================] - 35s 139ms/step - loss: 0.4761 - accuracy: 0.7724 - val_loss: 0.4889 - val_accuracy: 0.7630\n",
      "Epoch 8/25\n",
      "250/250 [==============================] - 32s 126ms/step - loss: 0.4611 - accuracy: 0.7810 - val_loss: 0.4980 - val_accuracy: 0.7530\n",
      "Epoch 9/25\n",
      "250/250 [==============================] - 31s 126ms/step - loss: 0.4448 - accuracy: 0.7890 - val_loss: 0.4786 - val_accuracy: 0.7880\n",
      "Epoch 10/25\n",
      "250/250 [==============================] - 31s 125ms/step - loss: 0.4265 - accuracy: 0.8001 - val_loss: 0.5507 - val_accuracy: 0.7385\n",
      "Epoch 11/25\n",
      "250/250 [==============================] - 31s 125ms/step - loss: 0.4217 - accuracy: 0.8029 - val_loss: 0.4606 - val_accuracy: 0.7910\n",
      "Epoch 12/25\n",
      "250/250 [==============================] - 34s 136ms/step - loss: 0.4048 - accuracy: 0.8112 - val_loss: 0.4661 - val_accuracy: 0.7885\n",
      "Epoch 13/25\n",
      "250/250 [==============================] - 64s 258ms/step - loss: 0.4051 - accuracy: 0.8156 - val_loss: 0.5217 - val_accuracy: 0.7505\n",
      "Epoch 14/25\n",
      "250/250 [==============================] - 91s 364ms/step - loss: 0.3858 - accuracy: 0.8234 - val_loss: 0.4975 - val_accuracy: 0.7780\n",
      "Epoch 15/25\n",
      "250/250 [==============================] - 85s 339ms/step - loss: 0.3753 - accuracy: 0.8249 - val_loss: 0.4422 - val_accuracy: 0.8135\n",
      "Epoch 16/25\n",
      "250/250 [==============================] - 83s 331ms/step - loss: 0.3528 - accuracy: 0.8421 - val_loss: 0.4393 - val_accuracy: 0.8050\n",
      "Epoch 17/25\n",
      "250/250 [==============================] - 84s 336ms/step - loss: 0.3463 - accuracy: 0.8441 - val_loss: 0.4375 - val_accuracy: 0.8040\n",
      "Epoch 18/25\n",
      "250/250 [==============================] - 84s 335ms/step - loss: 0.3331 - accuracy: 0.8512 - val_loss: 0.4472 - val_accuracy: 0.8045\n",
      "Epoch 19/25\n",
      "250/250 [==============================] - 83s 330ms/step - loss: 0.3212 - accuracy: 0.8562 - val_loss: 0.4751 - val_accuracy: 0.8020\n",
      "Epoch 20/25\n",
      "250/250 [==============================] - 85s 338ms/step - loss: 0.3192 - accuracy: 0.8608 - val_loss: 0.5476 - val_accuracy: 0.7785\n",
      "Epoch 21/25\n",
      "250/250 [==============================] - 85s 339ms/step - loss: 0.2950 - accuracy: 0.8689 - val_loss: 0.4755 - val_accuracy: 0.7935\n",
      "Epoch 22/25\n",
      "250/250 [==============================] - 80s 319ms/step - loss: 0.2890 - accuracy: 0.8701 - val_loss: 0.5143 - val_accuracy: 0.7985\n",
      "Epoch 23/25\n",
      "250/250 [==============================] - 80s 321ms/step - loss: 0.2876 - accuracy: 0.8750 - val_loss: 0.5050 - val_accuracy: 0.8010\n",
      "Epoch 24/25\n",
      "250/250 [==============================] - 84s 335ms/step - loss: 0.2624 - accuracy: 0.8889 - val_loss: 0.5059 - val_accuracy: 0.7875\n",
      "Epoch 25/25\n",
      "250/250 [==============================] - 84s 336ms/step - loss: 0.2593 - accuracy: 0.8889 - val_loss: 0.4724 - val_accuracy: 0.8055\n"
     ]
    },
    {
     "data": {
      "text/plain": [
       "<keras.callbacks.History at 0x28314cdc130>"
      ]
     },
     "execution_count": 14,
     "metadata": {},
     "output_type": "execute_result"
    }
   ],
   "source": [
    "# Training the CNN on the Training set and evaluating it on the Test set\n",
    "\n",
    "cnn.fit(x = trainingSet, validation_data = test_set, epochs = 25)"
   ]
  },
  {
   "cell_type": "markdown",
   "metadata": {
    "id": "-gDOvcRpxRxw"
   },
   "source": [
    "# Virtualize Training"
   ]
  },
  {
   "cell_type": "code",
   "execution_count": 15,
   "metadata": {
    "colab": {
     "base_uri": "https://localhost:8080/",
     "height": 873
    },
    "id": "95jqJPpJvxX0",
    "outputId": "60336444-06df-4751-a13c-516a56f13497"
   },
   "outputs": [
    {
     "data": {
      "image/png": "[encoded data removed]",
      "text/plain": [
       "<Figure size 864x864 with 2 Axes>"
      ]
     },
     "metadata": {
      "needs_background": "light"
     },
     "output_type": "display_data"
    }
   ],
   "source": [
    "fig, (ax1, ax2) = plt.subplots(2, 1, figsize=(12, 12))\n",
    "ax1.plot(cnn.history.history['loss'], color='b', label=\"Training loss\")\n",
    "ax1.plot(cnn.history.history['val_loss'], color='r', label=\"validation loss\")\n",
    "ax1.set_xticks(np.arange(1, 25, 1))\n",
    "ax1.set_yticks(np.arange(0, 1, 0.1))\n",
    "\n",
    "ax2.plot(cnn.history.history['accuracy'], color='b', label=\"Training accuracy\")\n",
    "ax2.plot(cnn.history.history['val_accuracy'], color='r',label=\"Validation accuracy\")\n",
    "ax2.set_xticks(np.arange(1, 25, 1))\n",
    "\n",
    "legend = plt.legend(loc='best', shadow=True)\n",
    "plt.tight_layout()\n",
    "plt.show()"
   ]
  },
  {
   "cell_type": "markdown",
   "metadata": {
    "id": "_ac0qQobxq5x"
   },
   "source": [
    "# Making a single prediction"
   ]
  },
  {
   "cell_type": "code",
   "execution_count": 17,
   "metadata": {
    "colab": {
     "base_uri": "https://localhost:8080/"
    },
    "id": "5sWMeJkPvR4t",
    "outputId": "5fe70887-f5a3-48ea-9dd6-acd5334171ce"
   },
   "outputs": [
    {
     "name": "stdout",
     "output_type": "stream",
     "text": [
      "cat\n"
     ]
    }
   ],
   "source": [
    "import numpy as np\n",
    "from keras.preprocessing import image\n",
    "\n",
    "test_image = image.load_img('C:\\\\Users\\\\kapad\\\\Desktop\\\\CDSP\\\\MODULE 6 DEEP LEARNING\\\\Convolutional Neural Networks (CNN) (1)\\\\Convolutional Neural Networks (CNN) (1)\\\\dataset\\\\single_prediction\\\\cat_or_dog_2.jpg', target_size = (64, 64))\n",
    "test_image = image.img_to_array(test_image)\n",
    "test_image = np.expand_dims(test_image, axis = 0)\n",
    "\n",
    "result = cnn.predict(test_image)\n",
    "\n",
    "trainingSet.class_indices\n",
    "\n",
    "if result[0][0] == 1:\n",
    "  prediction = 'dog'\n",
    "else:\n",
    "  prediction = 'cat'\n",
    "\n",
    "print(prediction)"
   ]
  },
  {
   "cell_type": "code",
   "execution_count": 18,
   "metadata": {},
   "outputs": [
    {
     "name": "stdout",
     "output_type": "stream",
     "text": [
      "dog\n"
     ]
    }
   ],
   "source": [
    "import numpy as np\n",
    "from keras.preprocessing import image\n",
    "\n",
    "test_image = image.load_img('C:\\\\Users\\\\kapad\\\\Desktop\\\\CDSP\\\\MODULE 6 DEEP LEARNING\\\\Convolutional Neural Networks (CNN) (1)\\\\Convolutional Neural Networks (CNN) (1)\\\\dataset\\\\single_prediction\\\\cat_or_dog_1.jpg', target_size = (64, 64))\n",
    "test_image = image.img_to_array(test_image)\n",
    "test_image = np.expand_dims(test_image, axis = 0)\n",
    "\n",
    "result = cnn.predict(test_image)\n",
    "\n",
    "trainingSet.class_indices\n",
    "\n",
    "if result[0][0] == 1:\n",
    "  prediction = 'dog'\n",
    "else:\n",
    "  prediction = 'cat'\n",
    "\n",
    "print(prediction)"
   ]
  },
  {
   "cell_type": "code",
   "execution_count": 19,
   "metadata": {
    "id": "dSKdqUgMudzt"
   },
   "outputs": [],
   "source": [
    "cnn.save_weights(\"model.h5\")"
   ]
  }
 ],
 "metadata": {
  "accelerator": "GPU",
  "colab": {
   "collapsed_sections": [],
   "name": "DL Assignment 1.ipynb",
   "provenance": []
  },
  "kernelspec": {
   "display_name": "Python 3",
   "language": "python",
   "name": "python3"
  },
  "language_info": {
   "codemirror_mode": {
    "name": "ipython",
    "version": 3
   },
   "file_extension": ".py",
   "mimetype": "text/x-python",
   "name": "python",
   "nbconvert_exporter": "python",
   "pygments_lexer": "ipython3",
   "version": "3.8.8"
  }
 },
 "nbformat": 4,
 "nbformat_minor": 1
}
